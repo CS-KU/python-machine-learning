{
 "cells": [
  {
   "cell_type": "markdown",
   "metadata": {},
   "source": [
    "### Regression using numpy (with pyplot)"
   ]
  },
  {
   "cell_type": "code",
   "execution_count": null,
   "metadata": {
    "collapsed": false
   },
   "outputs": [],
   "source": [
    "import csv\n",
    "import numpy as np\n",
    "import matplotlib.pyplot as plt\n",
    "%matplotlib inline"
   ]
  },
  {
   "cell_type": "code",
   "execution_count": null,
   "metadata": {
    "collapsed": false
   },
   "outputs": [],
   "source": [
    "# Read Cities.csv into list of dictionaries\n",
    "cities = []\n",
    "with open('Cities.csv') as f:\n",
    "    rows = csv.DictReader(f)\n",
    "    for r in rows:\n",
    "        cities.append(r)"
   ]
  },
  {
   "cell_type": "code",
   "execution_count": null,
   "metadata": {
    "collapsed": false
   },
   "outputs": [],
   "source": [
    "# Introduction to plotting a line\n",
    "plt.plot([1,2], [2,4], color='green')\n",
    "plt.show()"
   ]
  },
  {
   "cell_type": "code",
   "execution_count": null,
   "metadata": {
    "collapsed": false
   },
   "outputs": [],
   "source": [
    "# Create latitude versus temperature scatterplot\n",
    "lats = []\n",
    "temps = []\n",
    "for city in cities:\n",
    "    lats.append(float(city['latitude']))\n",
    "    temps.append(float(city['temperature']))\n",
    "plt.xlabel('latitude')\n",
    "plt.ylabel('temperature')\n",
    "plt.scatter(lats, temps)\n",
    "plt.show()"
   ]
  },
  {
   "cell_type": "code",
   "execution_count": null,
   "metadata": {
    "collapsed": false
   },
   "outputs": [],
   "source": [
    "# Add linear regression\n",
    "plt.scatter(lats,temps)\n",
    "a,b = np.polyfit(lats, temps, 1) # Regression line is y = ax + b\n",
    "x1 = min(lats)\n",
    "x2 = max(lats)\n",
    "plt.plot([x1,x2], [a*x1 + b, a*x2 + b], color='red')\n",
    "plt.show()\n",
    "# Beautify using plt.xlim(x1,x2)"
   ]
  },
  {
   "cell_type": "code",
   "execution_count": null,
   "metadata": {
    "collapsed": false
   },
   "outputs": [],
   "source": [
    "# Correlation coefficients (r values)\n",
    "cc = np.corrcoef(lats,temps)[1,0]\n",
    "print('Correlation coefficient for latitude versus temperature:', cc)\n",
    "longs = []\n",
    "for city in cities:\n",
    "    longs.append(float(city['longitude']))\n",
    "cc = np.corrcoef(longs,temps)[1,0]\n",
    "print('Correlation coefficient for longitude versus temperature:', cc)"
   ]
  },
  {
   "cell_type": "code",
   "execution_count": null,
   "metadata": {
    "collapsed": false
   },
   "outputs": [],
   "source": [
    "# Use linear regression for temperature predictor\n",
    "# Training data: compute latitude-temperature regression from cities\n",
    "# in Norway, France, and Turkey\n",
    "lats = []\n",
    "temps = []\n",
    "for city in cities:\n",
    "    if city['country'] == 'Norway' or city['country'] == 'France' or city['country'] == 'Turkey':\n",
    "        lats.append(float(city['latitude']))\n",
    "        temps.append(float(city['temperature']))\n",
    "# Compute and show regression\n",
    "plt.scatter(lats,temps)\n",
    "a,b = np.polyfit(lats, temps, 1)\n",
    "x1 = min(lats)\n",
    "x2 = max(lats)\n",
    "plt.plot([x1,x2], [a*x1 + b, a*x2 + b], color='red')\n",
    "plt.xlim(x1,x2)\n",
    "plt.show()\n",
    "# Loop asking user for city name, compute predicted + actual temperature\n",
    "while True:\n",
    "    name = input('Enter city name (or \"quit\" to quit): ')\n",
    "    if name == 'quit': break\n",
    "    else:\n",
    "        i=0\n",
    "        while i < len(cities) and cities[i]['city'] != name: i += 1\n",
    "        if i == len(cities):\n",
    "            print('City not in dataset')\n",
    "        else:\n",
    "            print('Predicted temperature:', a * float(cities[i]['latitude']) + b)\n",
    "            print('Actual temperature:', cities[i]['temperature'])"
   ]
  },
  {
   "cell_type": "markdown",
   "metadata": {
    "collapsed": true
   },
   "source": [
    "### <font color=\"green\">Your Turn: World Cup Data</font>"
   ]
  },
  {
   "cell_type": "code",
   "execution_count": null,
   "metadata": {
    "collapsed": false
   },
   "outputs": [],
   "source": [
    "# Read Players.csv into list of dictionaries\n",
    "players = []\n",
    "with open('Players.csv') as f:\n",
    "    rows = csv.DictReader(f)\n",
    "    for r in rows:\n",
    "        players.append(r)"
   ]
  },
  {
   "cell_type": "code",
   "execution_count": null,
   "metadata": {
    "collapsed": false
   },
   "outputs": [],
   "source": [
    "# From the players data, compute and plot a linear regression for\n",
    "# minutes played versus passes made.\n",
    "# Reminder: copy-paste-modify approach to programming!"
   ]
  },
  {
   "cell_type": "code",
   "execution_count": null,
   "metadata": {
    "collapsed": false
   },
   "outputs": [],
   "source": [
    "# Show the correlation coefficient for the regression.\n",
    "# Extra credit: Also show correlation coefficients for minutes played\n",
    "# versus tackles, minutes played versus shots, and minutes played versus saves"
   ]
  },
  {
   "cell_type": "code",
   "execution_count": null,
   "metadata": {
    "collapsed": false
   },
   "outputs": [],
   "source": [
    "# Use linear regression for number-of-passes predictor.\n",
    "# Training data: compute minutes-passes regression for players from\n",
    "# Greece, USA, and Portugal"
   ]
  },
  {
   "cell_type": "code",
   "execution_count": null,
   "metadata": {
    "collapsed": true
   },
   "outputs": [],
   "source": [
    "# SUPER BONUS!!\n",
    "# Repeat previous but use separate predictor for the four different positions\n",
    "# (goalkeeper,defender,midfielder,forward). Does it do better?\n",
    "# Try comparing correlation coefficients against one regression for all players."
   ]
  }
 ],
 "metadata": {
  "anaconda-cloud": {},
  "kernelspec": {
   "display_name": "Python 2",
   "language": "python",
   "name": "python2"
  },
  "language_info": {
   "codemirror_mode": {
    "name": "ipython",
    "version": 2.0
   },
   "file_extension": ".py",
   "mimetype": "text/x-python",
   "name": "python",
   "nbconvert_exporter": "python",
   "pygments_lexer": "ipython2",
   "version": "2.7.12"
  }
 },
 "nbformat": 4,
 "nbformat_minor": 0
}