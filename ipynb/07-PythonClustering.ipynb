{
 "cells": [
  {
   "cell_type": "markdown",
   "metadata": {},
   "source": [
    "### Clustering using scikit-learn (with pandas and matplotlib)"
   ]
  },
  {
   "cell_type": "code",
   "execution_count": null,
   "metadata": {
    "collapsed": false
   },
   "outputs": [],
   "source": [
    "import csv\n",
    "import pandas as pd\n",
    "import matplotlib.pyplot as plt\n",
    "from sklearn import cluster\n",
    "%matplotlib inline"
   ]
  },
  {
   "cell_type": "code",
   "execution_count": null,
   "metadata": {
    "collapsed": false
   },
   "outputs": [],
   "source": [
    "# Read Cities.csv into dataframe\n",
    "f = open('Cities.csv')\n",
    "cities = pd.read_csv(f)"
   ]
  },
  {
   "cell_type": "code",
   "execution_count": null,
   "metadata": {
    "collapsed": false
   },
   "outputs": [],
   "source": [
    "# K-means clustering based on longitude-latitude\n",
    "kmeans = cluster.KMeans(5)\n",
    "kmeans.fit(cities[['longitude', 'latitude']])\n",
    "labels = kmeans.labels_\n",
    "plt.scatter(cities['longitude'], cities['latitude'], c=labels)\n",
    "plt.show()\n",
    "# Try different values for K"
   ]
  },
  {
   "cell_type": "code",
   "execution_count": null,
   "metadata": {
    "collapsed": false
   },
   "outputs": [],
   "source": [
    "# Now with centroids\n",
    "kmeans = cluster.KMeans(5)\n",
    "kmeans.fit(cities[['longitude', 'latitude']])\n",
    "labels = kmeans.labels_\n",
    "centroids = kmeans.cluster_centers_\n",
    "plt.scatter(cities['longitude'], cities['latitude'], c=labels)\n",
    "plt.scatter(centroids[:,0], centroids[:,1], marker='x', c='black')\n",
    "plt.show()"
   ]
  },
  {
   "cell_type": "code",
   "execution_count": null,
   "metadata": {
    "collapsed": false
   },
   "outputs": [],
   "source": [
    "# k-means clustering based on temperature\n",
    "kmeans = cluster.KMeans(3)\n",
    "kmeans.fit(cities[['temperature']])\n",
    "labels = kmeans.labels_\n",
    "centroids = kmeans.cluster_centers_\n",
    "plt.scatter(cities['longitude'], cities['latitude'], c=labels)\n",
    "plt.show()\n",
    "print(centroids)"
   ]
  },
  {
   "cell_type": "markdown",
   "metadata": {
    "collapsed": true
   },
   "source": [
    "### <font color=\"green\">Your Turn: Clustering on World Cup Data</font>"
   ]
  },
  {
   "cell_type": "code",
   "execution_count": null,
   "metadata": {
    "collapsed": true
   },
   "outputs": [],
   "source": [
    "# Read Players.csv into dataframe\n",
    "f = open('Players.csv')\n",
    "players = pd.read_csv(f)"
   ]
  },
  {
   "cell_type": "code",
   "execution_count": null,
   "metadata": {
    "collapsed": false
   },
   "outputs": [],
   "source": [
    "# Create a clustering from the Players data that is meaningful and that\n",
    "# you can show visually in a scatterplot. No need for centroids."
   ]
  }
 ],
 "metadata": {
  "anaconda-cloud": {},
  "kernelspec": {
   "display_name": "Python 2",
   "language": "python",
   "name": "python2"
  },
  "language_info": {
   "codemirror_mode": {
    "name": "ipython",
    "version": 2.0
   },
   "file_extension": ".py",
   "mimetype": "text/x-python",
   "name": "python",
   "nbconvert_exporter": "python",
   "pygments_lexer": "ipython2",
   "version": "2.7.12"
  }
 },
 "nbformat": 4,
 "nbformat_minor": 0
}