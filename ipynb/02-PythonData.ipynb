{
 "cells": [
  {
   "cell_type": "markdown",
   "metadata": {},
   "source": [
    "### Reading data from CSV files using csv package"
   ]
  },
  {
   "cell_type": "code",
   "execution_count": null,
   "metadata": {
    "collapsed": true
   },
   "outputs": [],
   "source": [
    "import csv"
   ]
  },
  {
   "cell_type": "code",
   "execution_count": null,
   "metadata": {
    "collapsed": false
   },
   "outputs": [],
   "source": [
    "# Read Cities.csv data into default list format and print all rows\n",
    "# Make sure data file is in same folder as notebook\n",
    "# Note all values are read as strings\n",
    "with open('Cities.csv') as f:\n",
    "    rows = csv.reader(f)\n",
    "    for r in rows:\n",
    "        print(r)\n",
    "# Add print rows"
   ]
  },
  {
   "cell_type": "code",
   "execution_count": null,
   "metadata": {
    "collapsed": false
   },
   "outputs": [],
   "source": [
    "# Same as previous except use dictionary format\n",
    "with open('Cities.csv') as f:\n",
    "    rows = csv.DictReader(f)\n",
    "    for r in rows:\n",
    "        print(r)"
   ]
  },
  {
   "cell_type": "code",
   "execution_count": null,
   "metadata": {
    "collapsed": false
   },
   "outputs": [],
   "source": [
    "# Print the name and longitude of all cities with longitude < 0\n",
    "# Use dictionary format\n",
    "with open('Cities.csv') as f:\n",
    "    rows = csv.DictReader(f)\n",
    "    for r in rows:\n",
    "        if r['longitude'] < 0:\n",
    "            print(r['city'], r['longitude'])\n",
    "# What happened?"
   ]
  },
  {
   "cell_type": "code",
   "execution_count": null,
   "metadata": {
    "collapsed": false
   },
   "outputs": [],
   "source": [
    "# Same but using list format\n",
    "with open('Cities.csv') as f:\n",
    "    rows = csv.reader(f)\n",
    "    for r in rows:\n",
    "        if float(r[3]) < 0:\n",
    "            print(r[0], r[3])\n",
    "# Fix header row with next(rows)"
   ]
  },
  {
   "cell_type": "code",
   "execution_count": null,
   "metadata": {
    "collapsed": false
   },
   "outputs": [],
   "source": [
    "# Perform join of cities and countries, print city and whether in EU\n",
    "with open('Cities.csv') as f1:\n",
    "    rows1 = csv.DictReader(f1)\n",
    "    for city in rows1:\n",
    "        with open('Countries.csv') as f2:\n",
    "            rows2 = csv.DictReader(f2)\n",
    "            for country in rows2:\n",
    "                if city['country'] == country['country']:\n",
    "                    print(city['city'], country['EU'])"
   ]
  },
  {
   "cell_type": "markdown",
   "metadata": {},
   "source": [
    "### <font color=\"green\">Your Turn</font>"
   ]
  },
  {
   "cell_type": "code",
   "execution_count": null,
   "metadata": {
    "collapsed": false
   },
   "outputs": [],
   "source": [
    "# Using Countries.csv and reading in dictionary format, find\n",
    "# all countries that have coastline and are not in the EU.\n",
    "# Print the list of countries and their highest points.\n",
    "# Note: for the \"and\" of two conditions C1 and C2, use \"C1 and C2\"\n",
    "# Hint: The copy-paste-modify approach to programming\n",
    "# is highly recommended!"
   ]
  },
  {
   "cell_type": "markdown",
   "metadata": {},
   "source": [
    "### Reading data into Python data structures"
   ]
  },
  {
   "cell_type": "code",
   "execution_count": null,
   "metadata": {
    "collapsed": false
   },
   "outputs": [],
   "source": [
    "# Read Cities.csv data into list of dictionaries\n",
    "cities = []\n",
    "with open('Cities.csv') as f:\n",
    "    rows = csv.DictReader(f)\n",
    "    for r in rows:\n",
    "        cities.append(r)\n",
    "print(cities)"
   ]
  },
  {
   "cell_type": "code",
   "execution_count": null,
   "metadata": {
    "collapsed": false
   },
   "outputs": [],
   "source": [
    "# Perform join of cities and countries, print city and whether in EU\n",
    "cities = []\n",
    "countries = []\n",
    "with open('Cities.csv') as f:\n",
    "    rows = csv.DictReader(f)\n",
    "    for r in rows:\n",
    "        cities.append(r)\n",
    "with open('Countries.csv') as f:\n",
    "    rows = csv.DictReader(f)\n",
    "    for r in rows:\n",
    "        countries.append(r)\n",
    "for city in cities:\n",
    "    for country in countries:\n",
    "        if city['country'] == country['country']:\n",
    "            print(city['city'], country['EU'])"
   ]
  },
  {
   "cell_type": "code",
   "execution_count": null,
   "metadata": {
    "collapsed": false
   },
   "outputs": [],
   "source": [
    "# Compute overall average city temperature\n",
    "temps = []\n",
    "with open('Cities.csv') as f:\n",
    "    rows = csv.DictReader(f)\n",
    "    for r in rows:\n",
    "        temps.append(float(r['temperature'])) \n",
    "print(sum(temps)/len(temps))"
   ]
  },
  {
   "cell_type": "code",
   "execution_count": null,
   "metadata": {
    "collapsed": false
   },
   "outputs": [],
   "source": [
    "# Compute average city temperature for each country\n",
    "# Lots to notice here in terms of using dictionaries!\n",
    "sums = {} # dictionary with key = country and value = sum of temperatures\n",
    "counts = {} # dictionary with key = country and value = number of cities\n",
    "with open('Cities.csv') as f:\n",
    "    rows = csv.DictReader(f)\n",
    "    for r in rows:\n",
    "        if r['country'] in sums:\n",
    "            sums[r['country']] += float(r['temperature'])\n",
    "            counts[r['country']] += 1\n",
    "        else:\n",
    "            sums[r['country']] = float(r['temperature'])\n",
    "            counts[r['country']] = 1\n",
    "for country in sums:\n",
    "    print(country, sums[country]/counts[country])"
   ]
  },
  {
   "cell_type": "markdown",
   "metadata": {},
   "source": [
    "### <font color=\"green\">Your Turn</font>"
   ]
  },
  {
   "cell_type": "code",
   "execution_count": null,
   "metadata": {
    "collapsed": false,
    "scrolled": true
   },
   "outputs": [],
   "source": [
    "# Compute the average longitude and average latitude of all\n",
    "# cities that are in an EU country. Print the two values.\n",
    "# First four lines are included as a hint:\n",
    "lats = [] # list of latitudes of cities in an EU country\n",
    "longs = [] # list of longitudes of cities in an EU country\n",
    "cities = []\n",
    "countries = []\n",
    "# your code here"
   ]
  },
  {
   "cell_type": "markdown",
   "metadata": {},
   "source": [
    "### Computing average directly using NumPy package"
   ]
  },
  {
   "cell_type": "code",
   "execution_count": null,
   "metadata": {
    "collapsed": true
   },
   "outputs": [],
   "source": [
    "import numpy as np"
   ]
  },
  {
   "cell_type": "code",
   "execution_count": null,
   "metadata": {
    "collapsed": false
   },
   "outputs": [],
   "source": [
    "# Compute overall average city temperature\n",
    "temps = []\n",
    "with open('Cities.csv') as f:\n",
    "    rows = csv.DictReader(f)\n",
    "    for r in rows:\n",
    "        temps.append(float(r['temperature'])) \n",
    "print(np.average(temps))"
   ]
  },
  {
   "cell_type": "code",
   "execution_count": null,
   "metadata": {
    "collapsed": false
   },
   "outputs": [],
   "source": [
    "# Compute average city temperature for each country\n",
    "temps = {} # dictionary with key = country and value = list of temperatures\n",
    "with open('Cities.csv') as f:\n",
    "    rows = csv.DictReader(f)\n",
    "    for r in rows:\n",
    "        if r['country'] in temps:\n",
    "            temps[r['country']].append(float(r['temperature']))\n",
    "        else:\n",
    "            temps[r['country']] = [float(r['temperature'])]\n",
    "for country in temps:\n",
    "    print(country, np.average(temps[country]))"
   ]
  },
  {
   "cell_type": "markdown",
   "metadata": {},
   "source": [
    "### Minimum and maximum"
   ]
  },
  {
   "cell_type": "code",
   "execution_count": null,
   "metadata": {
    "collapsed": false
   },
   "outputs": [],
   "source": [
    "# Overall minimum and maximum temperatures\n",
    "temps = [] # list of all temperatures\n",
    "with open('Cities.csv') as f:\n",
    "    rows = csv.DictReader(f)\n",
    "    for r in rows:\n",
    "        temps.append(float(r['temperature']))\n",
    "print('Minimum:', min(temps))\n",
    "print('Maximum:', max(temps))"
   ]
  },
  {
   "cell_type": "code",
   "execution_count": null,
   "metadata": {
    "collapsed": false
   },
   "outputs": [],
   "source": [
    "# Alternative method\n",
    "min = 100.00 # greater than any possible minimum\n",
    "max = -100.00 # smaller than any possible maximum\n",
    "with open('Cities.csv') as f:\n",
    "    rows = csv.DictReader(f)\n",
    "    for r in rows:\n",
    "        if float(r['temperature']) < min:\n",
    "            min = float(r['temperature'])\n",
    "        if float(r['temperature']) > max:\n",
    "            max = float(r['temperature'])\n",
    "print('Minimum:', min)\n",
    "print('Maximum:', max)"
   ]
  },
  {
   "cell_type": "markdown",
   "metadata": {},
   "source": [
    "### <font color=\"green\">Your Turn</font>"
   ]
  },
  {
   "cell_type": "code",
   "execution_count": null,
   "metadata": {
    "collapsed": false,
    "scrolled": true
   },
   "outputs": [],
   "source": [
    "# Determine which country has the lowest average city temperature\n",
    "# and which country has the highest average city temperature.\n",
    "# Print the two countries.\n",
    "# Hint: Start with code above that computes average temperatures\n",
    "# for each country, then adapt the second min/max method.\n",
    "# Suggestion: Get lowest working then add highest"
   ]
  },
  {
   "cell_type": "markdown",
   "metadata": {},
   "source": [
    "### <font color=\"green\">Your Turn: World Cup Data</font>"
   ]
  },
  {
   "cell_type": "code",
   "execution_count": null,
   "metadata": {
    "collapsed": false
   },
   "outputs": [],
   "source": [
    "# What player on a team with “ia” in the team name played less than\n",
    "# 200 minutes and made more than 100 passes? Print the player surname.\n",
    "# Note: In Python, use \"'abc' in s\" to check whether string s contains'abc'\n",
    "# Reminder: Convert minutes and passes to integers before comparing to values"
   ]
  },
  {
   "cell_type": "code",
   "execution_count": null,
   "metadata": {
    "collapsed": false
   },
   "outputs": [],
   "source": [
    "# What is the average number of passes made by defenders? By forwards?"
   ]
  },
  {
   "cell_type": "code",
   "execution_count": null,
   "metadata": {
    "collapsed": false
   },
   "outputs": [],
   "source": [
    "# Which team has the highest ratio of goalsFor to goalsAgainst?\n",
    "# Print the team name only.\n",
    "# Reminder: Use float() to make sure you're doing floating point division\n",
    "# Hint: Use two variables to keep track of highest ratio seen so far\n",
    "# and team with that ratio:\n",
    "ratio = 0 # highest ratio seen so far\n",
    "team = '' # team with highest ratio\n",
    "# Your code here"
   ]
  },
  {
   "cell_type": "code",
   "execution_count": null,
   "metadata": {
    "collapsed": false
   },
   "outputs": [],
   "source": [
    "# How many players on a team with ranking <10 played more than 350 minutes?\n",
    "# Reminder: Convert ranking and minutes to integers before comparing to values\n",
    "# Hint: Compute join of Players and Teams, using a variable to count number of\n",
    "# players satisfying requirement"
   ]
  },
  {
   "cell_type": "code",
   "execution_count": null,
   "metadata": {
    "collapsed": false
   },
   "outputs": [],
   "source": [
    "# BONUS!\n",
    "# Write a loop that interactively asks the user to enter a team name.\n",
    "# If the team exists, print how many games the team played, how many\n",
    "# yellow cards and red cards the team had, and the average number of\n",
    "# minutes played by players on that team.\n",
    "# If the team doesn't exist, print \"Team not in 2010 World Cup\".\n",
    "# If 'quit' is entered, terminate the loop.\n",
    "# Note: To read a string from the user instead of a number, use\n",
    "# raw_input() instead of input()"
   ]
  }
 ],
 "metadata": {
  "anaconda-cloud": {},
  "kernelspec": {
   "display_name": "Python 2",
   "language": "python",
   "name": "python2"
  },
  "language_info": {
   "codemirror_mode": {
    "name": "ipython",
    "version": 2.0
   },
   "file_extension": ".py",
   "mimetype": "text/x-python",
   "name": "python",
   "nbconvert_exporter": "python",
   "pygments_lexer": "ipython2",
   "version": "2.7.12"
  }
 },
 "nbformat": 4,
 "nbformat_minor": 0
}
