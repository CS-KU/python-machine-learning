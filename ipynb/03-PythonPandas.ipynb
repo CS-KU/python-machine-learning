{
 "cells": [
  {
   "cell_type": "markdown",
   "metadata": {},
   "source": [
    "### Python pandas library - storing and manipulating data in \"dataframes\" (tables)"
   ]
  },
  {
   "cell_type": "code",
   "execution_count": null,
   "metadata": {
    "collapsed": false
   },
   "outputs": [],
   "source": [
    "import pandas as pd"
   ]
  },
  {
   "cell_type": "markdown",
   "metadata": {},
   "source": [
    "### Reading from CSV file into dataframe"
   ]
  },
  {
   "cell_type": "code",
   "execution_count": null,
   "metadata": {
    "collapsed": false
   },
   "outputs": [],
   "source": [
    "f = open('Cities.csv')\n",
    "cities = pd.read_csv(f)\n",
    "cities\n",
    "# Note no \"print\" needed"
   ]
  },
  {
   "cell_type": "code",
   "execution_count": null,
   "metadata": {
    "collapsed": false,
    "scrolled": false
   },
   "outputs": [],
   "source": [
    "# Number of rows\n",
    "len(cities)"
   ]
  },
  {
   "cell_type": "code",
   "execution_count": null,
   "metadata": {
    "collapsed": false
   },
   "outputs": [],
   "source": [
    "# First few rows\n",
    "cities.head()"
   ]
  },
  {
   "cell_type": "code",
   "execution_count": null,
   "metadata": {
    "collapsed": false
   },
   "outputs": [],
   "source": [
    "# Last 20 rows\n",
    "cities.tail(20)"
   ]
  },
  {
   "cell_type": "code",
   "execution_count": null,
   "metadata": {
    "collapsed": false
   },
   "outputs": [],
   "source": [
    "# Statistics for numeric columns\n",
    "cities.describe()"
   ]
  },
  {
   "cell_type": "markdown",
   "metadata": {},
   "source": [
    "### Sorting, selecting rows and columns"
   ]
  },
  {
   "cell_type": "code",
   "execution_count": null,
   "metadata": {
    "collapsed": false
   },
   "outputs": [],
   "source": [
    "# Sorting by country then descending temperature\n",
    "cities.sort_values(by=['country','temperature'],ascending=[True,False])"
   ]
  },
  {
   "cell_type": "code",
   "execution_count": null,
   "metadata": {
    "collapsed": false
   },
   "outputs": [],
   "source": [
    "# Selecting a single column - returns a 'series'\n",
    "cities.city\n",
    "# Also show cities['temperature']"
   ]
  },
  {
   "cell_type": "code",
   "execution_count": null,
   "metadata": {
    "collapsed": false
   },
   "outputs": [],
   "source": [
    "# Selecting multiple columns - returns a dataframe\n",
    "cities[['city','temperature']]"
   ]
  },
  {
   "cell_type": "code",
   "execution_count": null,
   "metadata": {
    "collapsed": false
   },
   "outputs": [],
   "source": [
    "# Selecting rows based on condition\n",
    "cities[(cities.longitude < 0)]"
   ]
  },
  {
   "cell_type": "code",
   "execution_count": null,
   "metadata": {
    "collapsed": false
   },
   "outputs": [],
   "source": [
    "# Selecting rows by number\n",
    "cities[15:20]\n",
    "# Show cities[:8] and cities[200:]"
   ]
  },
  {
   "cell_type": "code",
   "execution_count": null,
   "metadata": {
    "collapsed": false
   },
   "outputs": [],
   "source": [
    "# Putting it together: selecting rows, selecting columns, sorting\n",
    "# Name and longitude of all cities with latitude > 30 and temperature > 20,\n",
    "# sorted by latitude\n",
    "temp1 = cities[(cities.latitude > 50) & (cities.temperature > 9)]\n",
    "temp2 = temp1[['city','temperature']]\n",
    "temp2.sort_values(by='temperature')\n",
    "# Show combining first two, then combining all\n",
    "# Note similar functionality to SQL"
   ]
  },
  {
   "cell_type": "markdown",
   "metadata": {},
   "source": [
    "### <font color=\"green\">Your Turn</font>"
   ]
  },
  {
   "cell_type": "code",
   "execution_count": null,
   "metadata": {
    "collapsed": false
   },
   "outputs": [],
   "source": [
    "# Read the Countries csv file into a dataframe.\n",
    "# Print a list of all countries that don't have coastline and\n",
    "# are not in the EU, together with their highest points.\n",
    "# List should be in alphabetical order."
   ]
  },
  {
   "cell_type": "markdown",
   "metadata": {},
   "source": [
    "### Aggregation"
   ]
  },
  {
   "cell_type": "code",
   "execution_count": null,
   "metadata": {
    "collapsed": false
   },
   "outputs": [],
   "source": [
    "# Minimum and maximum\n",
    "print('Minimum temperature:', min(cities['temperature']))\n",
    "print('Maximum temperature:', max(cities['temperature']))"
   ]
  },
  {
   "cell_type": "code",
   "execution_count": null,
   "metadata": {
    "collapsed": false
   },
   "outputs": [],
   "source": [
    "# Average temperature of cities in France, computed two ways\n",
    "french = cities[(cities.country == 'France')]\n",
    "print('Computed as sum/count:', sum(french['temperature'])/len(french['temperature']))\n",
    "print('Computed as mean:', french['temperature'].mean())"
   ]
  },
  {
   "cell_type": "code",
   "execution_count": null,
   "metadata": {
    "collapsed": false
   },
   "outputs": [],
   "source": [
    "# Average temperature of cities in each country\n",
    "cities.groupby('country').mean()[['temperature']]\n",
    "# or with single brackets ['temperature'] or .temperature\n",
    "# Also show without column selection"
   ]
  },
  {
   "cell_type": "markdown",
   "metadata": {},
   "source": [
    "### <font color=\"green\">Your Turn</font>"
   ]
  },
  {
   "cell_type": "code",
   "execution_count": null,
   "metadata": {
    "collapsed": false
   },
   "outputs": [],
   "source": [
    "# Average highest point of countries in the EU and not in the EU,\n",
    "# then average highest point of countries with and without coastline\n",
    "# Note: When there's more than one \"query\" you only see the last result.\n",
    "# Try using print"
   ]
  },
  {
   "cell_type": "markdown",
   "metadata": {},
   "source": [
    "### Joining"
   ]
  },
  {
   "cell_type": "code",
   "execution_count": null,
   "metadata": {
    "collapsed": false
   },
   "outputs": [],
   "source": [
    "cityext = cities.merge(countries, on='country')\n",
    "cityext"
   ]
  },
  {
   "cell_type": "code",
   "execution_count": null,
   "metadata": {
    "collapsed": false
   },
   "outputs": [],
   "source": [
    "# Joining is symmetric\n",
    "countryext = countries.merge(cities, on='country')\n",
    "countryext"
   ]
  },
  {
   "cell_type": "code",
   "execution_count": null,
   "metadata": {
    "collapsed": false
   },
   "outputs": [],
   "source": [
    "# List of cities with longitude < 20 not in the EU, show city and country\n",
    "cityext[(cityext.longitude < 10) & (cityext.EU == 'no')][['city','country']]"
   ]
  },
  {
   "cell_type": "markdown",
   "metadata": {},
   "source": [
    "### Miscellaneous features"
   ]
  },
  {
   "cell_type": "code",
   "execution_count": null,
   "metadata": {
    "collapsed": false
   },
   "outputs": [],
   "source": [
    "# String operations - countries with 'ia' in their name\n",
    "countries[(countries.country.str.contains('ia'))]"
   ]
  },
  {
   "cell_type": "code",
   "execution_count": null,
   "metadata": {
    "collapsed": false
   },
   "outputs": [],
   "source": [
    "# Plotting\n",
    "import matplotlib\n",
    "%matplotlib inline\n",
    "cities.plot.scatter(x='latitude', y='temperature')"
   ]
  },
  {
   "cell_type": "code",
   "execution_count": null,
   "metadata": {
    "collapsed": false
   },
   "outputs": [],
   "source": [
    "# Add temp-fahrenheit column\n",
    "cities['temp-fahrenheit'] = (cities.temperature * 9/5) + 32\n",
    "cities"
   ]
  },
  {
   "cell_type": "markdown",
   "metadata": {},
   "source": [
    "### <font color=\"green\">Your Turn: World Cup data</font>"
   ]
  },
  {
   "cell_type": "code",
   "execution_count": null,
   "metadata": {
    "collapsed": true
   },
   "outputs": [],
   "source": [
    "# Read the Players and Teams data into dataframes\n",
    "f = open('Players.csv')\n",
    "players = pd.read_csv(f)\n",
    "f = open('Teams.csv')\n",
    "teams = pd.read_csv(f)"
   ]
  },
  {
   "cell_type": "code",
   "execution_count": null,
   "metadata": {
    "collapsed": false
   },
   "outputs": [],
   "source": [
    "# What player on a team with “ia” in the team name played less than\n",
    "# 200 minutes and made more than 100 passes? Print the player surname."
   ]
  },
  {
   "cell_type": "code",
   "execution_count": null,
   "metadata": {
    "collapsed": false
   },
   "outputs": [],
   "source": [
    "# What is the average number of passes made by defenders? By forwards?"
   ]
  },
  {
   "cell_type": "code",
   "execution_count": null,
   "metadata": {
    "collapsed": false
   },
   "outputs": [],
   "source": [
    "# Which team has the highest ratio of goalsFor to goalsAgainst?\n",
    "# Print the team name only.\n",
    "# Hint: Add a \"ratio\" column to the teams dataframe, then sort,\n",
    "# then use head(1) or tail(1) depending how you sorted"
   ]
  },
  {
   "cell_type": "code",
   "execution_count": null,
   "metadata": {
    "collapsed": false
   },
   "outputs": [],
   "source": [
    "# How many players on a team with ranking <10 played more than 350 minutes?\n",
    "# Reminder: len() gives number of rows i a dataframe"
   ]
  },
  {
   "cell_type": "code",
   "execution_count": null,
   "metadata": {
    "collapsed": false
   },
   "outputs": [],
   "source": [
    "# BONUS!\n",
    "# Write a loop that interactively asks the user to enter a team name.\n",
    "# If the team exists, list all of the players on that team\n",
    "# (with all of their information), sorted by descending minutes played.\n",
    "# If the team doesn't exist, print \"Team not in 2010 World Cup\".\n",
    "# If 'quit' is entered, terminate the loop.\n",
    "# Reminder: To read a string from the user instead of a number, use\n",
    "# raw_input() instead of input()\n",
    "# Note: To test if a value v is (not) in a column c of a dataframe D,\n",
    "# use \"v (not) in D['c'].values\""
   ]
  }
 ],
 "metadata": {
  "anaconda-cloud": {},
  "kernelspec": {
   "display_name": "Python 2",
   "language": "python",
   "name": "python2"
  },
  "language_info": {
   "codemirror_mode": {
    "name": "ipython",
    "version": 2.0
   },
   "file_extension": ".py",
   "mimetype": "text/x-python",
   "name": "python",
   "nbconvert_exporter": "python",
   "pygments_lexer": "ipython2",
   "version": "2.7.12"
  }
 },
 "nbformat": 4,
 "nbformat_minor": 0
}