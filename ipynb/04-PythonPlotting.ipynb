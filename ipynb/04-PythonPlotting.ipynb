{
 "cells": [
  {
   "cell_type": "markdown",
   "metadata": {},
   "source": [
    "### Plotting using package matplotlib.pyplot"
   ]
  },
  {
   "cell_type": "code",
   "execution_count": null,
   "metadata": {
    "collapsed": true
   },
   "outputs": [],
   "source": [
    "import csv\n",
    "import numpy as np\n",
    "import matplotlib.pyplot as plt\n",
    "%matplotlib inline"
   ]
  },
  {
   "cell_type": "code",
   "execution_count": null,
   "metadata": {
    "collapsed": false
   },
   "outputs": [],
   "source": [
    "# Read Cities.csv and Countries.csv into lists of dictionaries\n",
    "cities = []\n",
    "with open('Cities.csv') as f:\n",
    "    rows = csv.DictReader(f)\n",
    "    for r in rows:\n",
    "        cities.append(r)\n",
    "countries = []\n",
    "with open('Countries.csv') as f:\n",
    "    rows = csv.DictReader(f)\n",
    "    for r in rows:\n",
    "        countries.append(r)"
   ]
  },
  {
   "cell_type": "code",
   "execution_count": null,
   "metadata": {
    "collapsed": false
   },
   "outputs": [],
   "source": [
    "# Introduction to scatterplots\n",
    "x = [1, 2, 4, 6, 9]\n",
    "y = [4, 5, 2, 7, 5]\n",
    "plt.scatter(x, y)\n",
    "plt.show()"
   ]
  },
  {
   "cell_type": "code",
   "execution_count": null,
   "metadata": {
    "collapsed": false
   },
   "outputs": [],
   "source": [
    "# Scatterplot of latitude versus temperature\n",
    "x = []\n",
    "y = []\n",
    "for city in cities:\n",
    "    x.append(float(city['latitude']))\n",
    "    y.append(float(city['temperature']))\n",
    "plt.xlabel('latitude')\n",
    "plt.ylabel('temperature')\n",
    "plt.scatter(x, y)\n",
    "plt.show()"
   ]
  },
  {
   "cell_type": "code",
   "execution_count": null,
   "metadata": {
    "collapsed": false
   },
   "outputs": [],
   "source": [
    "# Scatterplot of longitude versus latitude colored by temperature\n",
    "x = []\n",
    "y = []\n",
    "colors = []\n",
    "for city in cities:\n",
    "    x.append(float(city['longitude']))\n",
    "    y.append(float(city['latitude']))\n",
    "    if float(city['temperature']) < 8:\n",
    "        colors.append('blue')\n",
    "    elif float(city['temperature']) >= 8 and float(city['temperature']) < 12:\n",
    "        colors.append('red')\n",
    "    else: colors.append('yellow')\n",
    "plt.xlabel('longitude')\n",
    "plt.ylabel('latitude')\n",
    "plt.scatter(x, y, c=colors)\n",
    "plt.show()"
   ]
  },
  {
   "cell_type": "code",
   "execution_count": null,
   "metadata": {
    "collapsed": false
   },
   "outputs": [],
   "source": [
    "# Introduction to bar charts\n",
    "bars = ['Bar1', 'Bar2', 'Bar3']\n",
    "heights = [2, 6, 4]\n",
    "plt.bar(range(3), heights, align='center')\n",
    "plt.xticks(range(3), bars)\n",
    "plt.show()"
   ]
  },
  {
   "cell_type": "code",
   "execution_count": null,
   "metadata": {
    "collapsed": false
   },
   "outputs": [],
   "source": [
    "# Bar chart showing highest points of countries with 'ia' in their name\n",
    "bars = [] # countries with 'ia' in their name\n",
    "heights = [] # highest points of those countries\n",
    "for country in countries:\n",
    "    if 'ia' in country['country']:\n",
    "        bars.append(country['country'])\n",
    "        heights.append(country['highest'])\n",
    "numbars = len(bars)\n",
    "width = .75\n",
    "plt.bar(range(numbars), heights, width, align='center')\n",
    "plt.xlabel('country')\n",
    "plt.ylabel('highest')\n",
    "plt.xticks(range(numbars), bars, rotation='vertical')\n",
    "plt.show()"
   ]
  },
  {
   "cell_type": "code",
   "execution_count": null,
   "metadata": {
    "collapsed": false
   },
   "outputs": [],
   "source": [
    "# Introduction to pie charts\n",
    "sizes = [10, 20, 30]\n",
    "lbls = ['small', 'medium', 'large']\n",
    "plt.pie(sizes, labels=lbls, autopct='%1.1f%%')\n",
    "plt.show()"
   ]
  },
  {
   "cell_type": "code",
   "execution_count": null,
   "metadata": {
    "collapsed": false
   },
   "outputs": [],
   "source": [
    "# Pie chart showing number of EU countries versus non-EU countries\n",
    "numEU = 0\n",
    "for country in countries:\n",
    "    if country['EU'] == 'yes': numEU += 1\n",
    "numNotEU = len(countries) - numEU\n",
    "sizes = [numEU, numNotEU]\n",
    "lbls = ['EU', 'not EU']\n",
    "plt.pie(sizes, labels=lbls, autopct='%1.1f%%')\n",
    "plt.show()"
   ]
  },
  {
   "cell_type": "markdown",
   "metadata": {
    "collapsed": true
   },
   "source": [
    "### <font color=\"green\">Your Turn: World Cup Data</font>"
   ]
  },
  {
   "cell_type": "code",
   "execution_count": null,
   "metadata": {
    "collapsed": false
   },
   "outputs": [],
   "source": [
    "# Read Players.csv and Teams.csv into lists of dictionaries\n",
    "players = []\n",
    "with open('Players.csv') as f:\n",
    "    rows = csv.DictReader(f)\n",
    "    for r in rows:\n",
    "        players.append(r)\n",
    "teams = []\n",
    "with open('Teams.csv') as f:\n",
    "    rows = csv.DictReader(f)\n",
    "    for r in rows:\n",
    "        teams.append(r)"
   ]
  },
  {
   "cell_type": "code",
   "execution_count": null,
   "metadata": {
    "collapsed": false
   },
   "outputs": [],
   "source": [
    "# Create a scatterplot of players showing minutes played versus\n",
    "# passes made. Color each player based on their position\n",
    "# (goalkeeper, defender, midfielder, forward).\n",
    "# Hint: remember copy-paste-modify approach to programming!"
   ]
  },
  {
   "cell_type": "code",
   "execution_count": null,
   "metadata": {
    "collapsed": false
   },
   "outputs": [],
   "source": [
    "# Create a bar chart showing the number of teams with 0, 1, and 2 red cards.\n",
    "# Reminder: redCards is a string, so convert or compare accordingly\n",
    "bars = ['zero', 'one', 'two'] # number of red cards\n",
    "heights = [0, 0, 0] # number of teams with zero/one/two red cards\n",
    "# your code here"
   ]
  },
  {
   "cell_type": "code",
   "execution_count": null,
   "metadata": {
    "collapsed": false
   },
   "outputs": [],
   "source": [
    "# Create a pie chart showing the relative percentage of teams\n",
    "# with 0, 1, and 2 red cards.\n",
    "# Reminder: redCards is a string, so convert or compare accordingly"
   ]
  },
  {
   "cell_type": "code",
   "execution_count": null,
   "metadata": {
    "collapsed": false
   },
   "outputs": [],
   "source": [
    "# BONUS!\n",
    "# Write a loop that interactively asks the user to enter a team name.\n",
    "# If the team exists, create a pie chart showing how many players the team\n",
    "# has in each of the four positions.\n",
    "# If the team doesn't exist, print \"Team not in 2010 World Cup\".\n",
    "# If 'quit' is entered, terminate the loop.\n",
    "# Note: To read a string from the user instead of a number, use\n",
    "# raw_input() instead of input()"
   ]
  }
 ],
 "metadata": {
  "anaconda-cloud": {},
  "kernelspec": {
   "display_name": "Python 2",
   "language": "python",
   "name": "python2"
  },
  "language_info": {
   "codemirror_mode": {
    "name": "ipython",
    "version": 2.0
   },
   "file_extension": ".py",
   "mimetype": "text/x-python",
   "name": "python",
   "nbconvert_exporter": "python",
   "pygments_lexer": "ipython2",
   "version": "2.7.12"
  }
 },
 "nbformat": 4,
 "nbformat_minor": 0
}
