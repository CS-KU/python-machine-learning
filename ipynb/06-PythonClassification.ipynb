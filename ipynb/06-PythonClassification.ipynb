{
 "cells": [
  {
   "cell_type": "markdown",
   "metadata": {},
   "source": [
    "### Classification using scikit-learn (with pandas)"
   ]
  },
  {
   "cell_type": "code",
   "execution_count": null,
   "metadata": {
    "collapsed": false
   },
   "outputs": [],
   "source": [
    "import csv\n",
    "import pandas as pd\n",
    "import sklearn\n",
    "from sklearn.neighbors import KNeighborsClassifier\n",
    "from sklearn.tree import DecisionTreeClassifier\n",
    "from sklearn.ensemble import RandomForestClassifier\n",
    "from sklearn.naive_bayes import GaussianNB"
   ]
  },
  {
   "cell_type": "code",
   "execution_count": null,
   "metadata": {
    "collapsed": false
   },
   "outputs": [],
   "source": [
    "# Read Cities.csv into dataframe, add column for temperature category\n",
    "f = open('Cities.csv')\n",
    "cities = pd.read_csv(f)\n",
    "cats = []\n",
    "for i in range(0,len(cities)):\n",
    "    if cities.ix[i]['temperature'] < 5:\n",
    "        cats.append('cold')\n",
    "    elif cities.ix[i]['temperature'] < 9:\n",
    "        cats.append('cool')\n",
    "    elif cities.ix[i]['temperature'] < 15:\n",
    "        cats.append('warm')\n",
    "    else: cats.append('hot')\n",
    "cities['category'] = cats\n",
    "print(\"cold:\", len(cities[(cities.category == 'cold')]))\n",
    "print(\"cool:\", len(cities[(cities.category == 'cool')]))\n",
    "print(\"warm:\", len(cities[(cities.category == 'warm')]))\n",
    "print(\"hot:\", len(cities[(cities.category == 'hot')]))"
   ]
  },
  {
   "cell_type": "code",
   "execution_count": null,
   "metadata": {
    "collapsed": false
   },
   "outputs": [],
   "source": [
    "# Create training and test sets for cities data\n",
    "numitems = len(cities)\n",
    "percenttrain = 0.85\n",
    "numtrain = int(numitems*percenttrain)\n",
    "numtest = numitems - numtrain\n",
    "print('Training set', numtrain, 'items')\n",
    "print('Test set', numtest, 'items')\n",
    "citiesTrain = cities[0:numtrain]\n",
    "citiesTest = cities[numtrain:numitems]"
   ]
  },
  {
   "cell_type": "markdown",
   "metadata": {},
   "source": [
    "### K-nearest-neighbors classification"
   ]
  },
  {
   "cell_type": "code",
   "execution_count": null,
   "metadata": {
    "collapsed": false
   },
   "outputs": [],
   "source": [
    "# Predict temperature category from other features\n",
    "features = ['longitude', 'latitude']\n",
    "neighbors = 8\n",
    "classifier = KNeighborsClassifier(neighbors)\n",
    "classifier.fit(citiesTrain[features], citiesTrain['category'])\n",
    "predictions = classifier.predict(citiesTest[features])\n",
    "# Calculate accuracy\n",
    "numtrain = len(citiesTrain)\n",
    "numtest = len(citiesTest)\n",
    "correct = 0\n",
    "for i in range(0,numtest):\n",
    "    print('Predicted:', predictions[i], ' Actual:', citiesTest.ix[numtrain+i]['category'])\n",
    "    if predictions[i] == citiesTest.ix[numtrain+i]['category']: correct +=1\n",
    "print('Percent correct:', float(correct)/float(numtest))\n",
    "# Comment out print, play with other values for neighbors, try 'temperature'\n",
    "# as feature"
   ]
  },
  {
   "cell_type": "markdown",
   "metadata": {
    "collapsed": true
   },
   "source": [
    "### <font color=\"green\">Your Turn: K-nearest-neighbors on World Cup Data</font>"
   ]
  },
  {
   "cell_type": "code",
   "execution_count": null,
   "metadata": {
    "collapsed": false
   },
   "outputs": [],
   "source": [
    "# Predict position from one or more of minutes, shots, passes, tackles, saves.\n",
    "# This box does all the set-up, including reordering the data to avoid team bias.\n",
    "f = open('Players.csv')\n",
    "players = pd.read_csv(f)\n",
    "players = players.sort_values(by='surname')\n",
    "players = players.reset_index(drop=True)\n",
    "numitems = len(players)\n",
    "percenttrain = 0.95\n",
    "numtrain = int(numitems*percenttrain)\n",
    "numtest = numitems - numtrain\n",
    "playersTrain = players[0:numtrain]\n",
    "playersTest = players[numtrain:numitems]\n",
    "print('Training set', numtrain, 'items')\n",
    "print('Test set', numtest, 'items')"
   ]
  },
  {
   "cell_type": "code",
   "execution_count": null,
   "metadata": {
    "collapsed": false
   },
   "outputs": [],
   "source": [
    "# This box does the classification.\n",
    "# Try different features and different numbers of neighbors.\n",
    "# What's the highest accuracy you can get?\n",
    "features = ['minutes', 'shots', 'passes', 'tackles', 'saves']\n",
    "neighbors = 10\n",
    "classifier = KNeighborsClassifier(neighbors)\n",
    "classifier.fit(playersTrain[features], playersTrain['position'])\n",
    "predictions = classifier.predict(playersTest[features])\n",
    "# Calculate accuracy\n",
    "numtrain = len(playersTrain)\n",
    "numtest = len(playersTest)\n",
    "correct = 0\n",
    "for i in range(0,numtest):\n",
    "#    print('Predicted:', predictions[i], ' Actual:', playersTest.ix[numtrain+i]['position'])\n",
    "    if predictions[i] == playersTest.ix[numtrain+i]['position']: correct +=1\n",
    "print('Percent correct:', float(correct)/float(numtest))"
   ]
  },
  {
   "cell_type": "markdown",
   "metadata": {},
   "source": [
    "### Decision tree classification"
   ]
  },
  {
   "cell_type": "code",
   "execution_count": null,
   "metadata": {
    "collapsed": false
   },
   "outputs": [],
   "source": [
    "# Predict temperature category from other features\n",
    "features = ['longitude', 'latitude']\n",
    "featurevals = citiesTrain[features]\n",
    "labels = citiesTrain['category']\n",
    "dt = DecisionTreeClassifier(min_samples_split=10) # parameter is optional\n",
    "dt.fit(featurevals,labels)\n",
    "predictions = dt.predict(citiesTest[features])\n",
    "# Calculate accuracy\n",
    "numtrain = len(citiesTrain)\n",
    "numtest = len(citiesTest)\n",
    "correct = 0\n",
    "for i in range(0,numtest):\n",
    "    print('Predicted:', predictions[i], ' Actual:', citiesTest.ix[numtrain+i]['category'])\n",
    "    if predictions[i] == citiesTest.ix[numtrain+i]['category']: correct +=1\n",
    "print('Percent correct:', float(correct)/float(numtest))\n",
    "# Comment out print, play with other values for min_samples_split, try 'temperature'\n",
    "# as feature"
   ]
  },
  {
   "cell_type": "markdown",
   "metadata": {},
   "source": [
    "### \"Forest\" of decision trees"
   ]
  },
  {
   "cell_type": "code",
   "execution_count": null,
   "metadata": {
    "collapsed": false
   },
   "outputs": [],
   "source": [
    "# Predict temperature category from other features\n",
    "features = ['longitude', 'latitude']\n",
    "featurevals = citiesTrain[features]\n",
    "labels = citiesTrain['category']\n",
    "rf = RandomForestClassifier(n_estimators=10) # number of different decision trees\n",
    "rf.fit(featurevals,labels)\n",
    "predictions = rf.predict(citiesTest[features])\n",
    "# Calculate accuracy\n",
    "numtrain = len(citiesTrain)\n",
    "numtest = len(citiesTest)\n",
    "correct = 0\n",
    "for i in range(0,numtest):\n",
    "    print('Predicted:', predictions[i], ' Actual:', citiesTest.ix[numtrain+i]['category'])\n",
    "    if predictions[i] == citiesTest.ix[numtrain+i]['category']: correct +=1\n",
    "print('Percent correct:', float(correct)/float(numtest))\n",
    "# Comment out print, play with other values for n_estimators"
   ]
  },
  {
   "cell_type": "markdown",
   "metadata": {
    "collapsed": true
   },
   "source": [
    "### <font color=\"green\">Your Turn: Decision tree and forest of trees on World Cup Data</font>"
   ]
  },
  {
   "cell_type": "code",
   "execution_count": null,
   "metadata": {
    "collapsed": false
   },
   "outputs": [],
   "source": [
    "# SINGLE TREE\n",
    "# Predict position from one or more of minutes, shots, passes, tackles, saves.\n",
    "# Try different features and different values for min_samples_split.\n",
    "# What's the highest accuracy you can get?\n",
    "features = ['minutes', 'shots', 'passes', 'tackles', 'saves']\n",
    "featurevals = playersTrain[features]\n",
    "labels = playersTrain['position']\n",
    "dt = DecisionTreeClassifier(min_samples_split=10) # parameter is optional\n",
    "dt.fit(featurevals,labels)\n",
    "predictions = dt.predict(playersTest[features])\n",
    "# Calculate accuracy\n",
    "numtrain = len(playersTrain)\n",
    "numtest = len(playersTest)\n",
    "correct = 0\n",
    "for i in range(0,numtest):\n",
    "#    print('Predicted:', predictions[i], ' Actual:', playersTest.ix[numtrain+i]['position'])\n",
    "    if predictions[i] == playersTest.ix[numtrain+i]['position']: correct +=1\n",
    "print('Percent correct:', float(correct)/float(numtest))"
   ]
  },
  {
   "cell_type": "code",
   "execution_count": null,
   "metadata": {
    "collapsed": false
   },
   "outputs": [],
   "source": [
    "# FOREST OF TREES\n",
    "# Predict position from one or more of minutes, shots, passes, tackles, saves.\n",
    "# Try different values for n_estimators.\n",
    "# What's the highest accuracy you can get?\n",
    "features = ['minutes', 'shots', 'passes', 'tackles', 'saves']\n",
    "featurevals = playersTrain[features]\n",
    "labels = playersTrain['position']\n",
    "rf = RandomForestClassifier(n_estimators=10) # number of different decision trees\n",
    "rf.fit(featurevals,labels)\n",
    "predictions = rf.predict(playersTest[features])\n",
    "# Calculate accuracy\n",
    "numtrain = len(playersTrain)\n",
    "numtest = len(playersTest)\n",
    "correct = 0\n",
    "for i in range(0,numtest):\n",
    "#    print('Predicted:', predictions[i], ' Actual:', playersTest.ix[numtrain+i]['position'])\n",
    "    if predictions[i] == playersTest.ix[numtrain+i]['position']: correct +=1\n",
    "print('Percent correct:', float(correct)/float(numtest))"
   ]
  },
  {
   "cell_type": "markdown",
   "metadata": {},
   "source": [
    "### Naive Bayes classification"
   ]
  },
  {
   "cell_type": "code",
   "execution_count": null,
   "metadata": {
    "collapsed": false
   },
   "outputs": [],
   "source": [
    "# Predict temperature category from other features\n",
    "features = ['longitude', 'latitude']\n",
    "featurevals = citiesTrain[features]\n",
    "labels = citiesTrain['category']\n",
    "nb = GaussianNB()\n",
    "nb.fit(featurevals,labels)\n",
    "predictions = nb.predict(citiesTest[features])\n",
    "# Calculate accuracy\n",
    "numtrain = len(citiesTrain)\n",
    "numtest = len(citiesTest)\n",
    "correct = 0\n",
    "for i in range(0,numtest):\n",
    "    print('Predicted:', predictions[i], ' Actual:', citiesTest.ix[numtrain+i]['category'])\n",
    "    if predictions[i] == citiesTest.ix[numtrain+i]['category']: correct +=1\n",
    "print('Percent correct:', float(correct)/float(numtest))\n"
   ]
  },
  {
   "cell_type": "markdown",
   "metadata": {
    "collapsed": true
   },
   "source": [
    "### <font color=\"green\">Your Turn: Naive Bayes on World Cup Data</font>"
   ]
  },
  {
   "cell_type": "code",
   "execution_count": null,
   "metadata": {
    "collapsed": false
   },
   "outputs": [],
   "source": [
    "# Predict position from one or more of minutes, shots, passes, tackles, saves.\n",
    "# Try different features. What's the highest accuracy you can get?\n",
    "features = ['minutes', 'shots', 'passes', 'tackles', 'saves']\n",
    "featurevals = playersTrain[features]\n",
    "labels = playersTrain['position']\n",
    "nb = GaussianNB()\n",
    "nb.fit(featurevals,labels)\n",
    "predictions = nb.predict(playersTest[features])\n",
    "# Calculate accuracy\n",
    "numtrain = len(playersTrain)\n",
    "numtest = len(playersTest)\n",
    "correct = 0\n",
    "for i in range(0,numtest):\n",
    "#    print('Predicted:', predictions[i], ' Actual:', playersTest.ix[numtrain+i]['position'])\n",
    "    if predictions[i] == playersTest.ix[numtrain+i]['position']: correct +=1\n",
    "print('Percent correct:', float(correct)/float(numtest))"
   ]
  }
 ],
 "metadata": {
  "anaconda-cloud": {},
  "kernelspec": {
   "display_name": "Python 2",
   "language": "python",
   "name": "python2"
  },
  "language_info": {
   "codemirror_mode": {
    "name": "ipython",
    "version": 2.0
   },
   "file_extension": ".py",
   "mimetype": "text/x-python",
   "name": "python",
   "nbconvert_exporter": "python",
   "pygments_lexer": "ipython2",
   "version": "2.7.12"
  }
 },
 "nbformat": 4,
 "nbformat_minor": 0
}